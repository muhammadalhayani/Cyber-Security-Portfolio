{
 "cells": [
  {
   "cell_type": "markdown",
   "metadata": {},
   "source": [
    "# Password Complexity Checker\n",
    "---\n",
    "This Jupyter Notebook demonstrates a password complexity checker that evaluates the strength of a password based on various criteria."
   ]
  },
  {
   "cell_type": "markdown",
   "metadata": {},
   "source": [
    "## Import Libraries\n",
    "Importing the necessary libraries for password strength checking."
   ]
  },
  {
   "cell_type": "code",
   "execution_count": 1,
   "metadata": {},
   "outputs": [],
   "source": [
    "import re"
   ]
  },
  {
   "cell_type": "markdown",
   "metadata": {},
   "source": [
    "## Define Function to Check Password Complexity\n",
    "The `check_password_complexity` function evaluates the complexity of a password based on length, uppercase letters, lowercase letters, numbers, and special characters."
   ]
  },
  {
   "cell_type": "code",
   "execution_count": 2,
   "metadata": {},
   "outputs": [],
   "source": [
    "def check_password_complexity(password):\n",
    "    # Criteria for a complex password\n",
    "    length_criteria = len(password) >= 8\n",
    "    uppercase_criteria = bool(re.search(r'[A-Z]', password))  # Matches any uppercase letter\n",
    "    lowercase_criteria = bool(re.search(r'[a-z]', password))  # Matches any lowercase letter\n",
    "    number_criteria = bool(re.search(r'[0-9]', password))     # Matches any digit\n",
    "    special_char_criteria = bool(re.search(r'[^\\w]', password))  # Matches any special character\n",
    "\n",
    "    # Checking the number of criteria met\n",
    "    criteria_met = sum([\n",
    "        length_criteria,\n",
    "        uppercase_criteria,\n",
    "        lowercase_criteria,\n",
    "        number_criteria,\n",
    "        special_char_criteria\n",
    "    ])\n",
    "\n",
    "    # Feedback based on criteria met\n",
    "    if criteria_met == 5:\n",
    "        feedback = \"Very Strong\"\n",
    "    elif criteria_met == 4:\n",
    "        feedback = \"Strong\"\n",
    "    elif criteria_met == 3:\n",
    "        feedback = \"Moderate\"\n",
    "    elif criteria_met == 2:\n",
    "        feedback = \"Weak\"\n",
    "    else:\n",
    "        feedback = \"Very Weak\"\n",
    "\n",
    "    # Detailed feedback\n",
    "    details = {\n",
    "        \"Length\": length_criteria,\n",
    "        \"Uppercase Letters\": uppercase_criteria,\n",
    "        \"Lowercase Letters\": lowercase_criteria,\n",
    "        \"Numbers\": number_criteria,\n",
    "        \"Special Characters\": special_char_criteria\n",
    "    }\n",
    "\n",
    "    return feedback, details"
   ]
  },
  {
   "cell_type": "markdown",
   "metadata": {},
   "source": [
    "## Usage Instructions\n",
    "### Downloading and Running the Code\n",
    "1. **Install Git**: If you don't have Git installed, download and install it from [git-scm.com](https://git-scm.com/).\n",
    "2. **Clone the Repository**:\n",
    "   - Open a terminal or command prompt.\n",
    "   - Navigate to the directory where you want to clone the repository.\n",
    "   - Run the following command to clone the repository:\n",
    "     ```\n",
    "     git clone https://github.com/muhammadalhayani/Cyber-Security-Portfolio.git\n",
    "     ```\n",
    "3. **Navigate to the Cloned Repository**:\n",
    "   - Change directory to the cloned repository:\n",
    "     ```\n",
    "     cd Cyber-Security-Portfolio/Python-Tools\n",
    "     ```\n",
    "4. **Run the Script**:\n",
    "   - Run the Python script:\n",
    "     ```\n",
    "     python password_complexity_checker.py\n",
    "     ```\n"
   ]
  }
 ],
 "metadata": {
  "kernelspec": {
   "display_name": "Python 3",
   "language": "python",
   "name": "python3"
  },
  "language_info": {
   "codemirror_mode": {
    "name": "ipython",
    "version": 3
   },
   "file_extension": ".py",
   "mimetype": "text/x-python",
   "name": "python",
   "nbconvert_exporter": "python",
   "pygments_lexer": "ipython3",
   "version": "3.8.5"
  }
 },
 "nbformat": 4,
 "nbformat_minor": 5
}
