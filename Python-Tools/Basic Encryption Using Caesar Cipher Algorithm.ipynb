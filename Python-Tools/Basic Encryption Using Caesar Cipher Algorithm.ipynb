{
 "cells": [
  {
   "cell_type": "markdown",
   "metadata": {},
   "source": [
    "# Caesar Cipher with Tkinter\n",
    "---\n",
    "This notebook demonstrates a simple Caesar Cipher encryption and decryption application using Tkinter for the GUI."
   ]
  },
  {
   "cell_type": "code",
   "execution_count": 1,
   "metadata": {},
   "outputs": [],
   "source": [
    "import tkinter as tk\n",
    "from tkinter import messagebox"
   ]
  },
  {
   "cell_type": "markdown",
   "metadata": {},
   "source": [
    "## Encryption and Decryption Functions"
   ]
  },
  {
   "cell_type": "code",
   "execution_count": 2,
   "metadata": {},
   "outputs": [],
   "source": [
    "def encrypted(text, shift):\n",
    "    encrypted_text = \"\"\n",
    "    for char in text:\n",
    "        if char.isalpha():\n",
    "            ascii_offset = ord('A') if char.isupper() else ord('a')\n",
    "            encrypted_char = chr((ord(char) - ascii_offset + shift) % 26 + ascii_offset)\n",
    "            encrypted_text += encrypted_char\n",
    "        else:\n",
    "            encrypted_text += char\n",
    "    return encrypted_text\n",
    "\n",
    "def decrypt(text, shift):\n",
    "    decrypted_text = \"\"\n",
    "    for char in text:\n",
    "        if char.isalpha():\n",
    "            ascii_offset = ord('A') if char.isupper() else ord('a')\n",
    "            decrypted_char = chr((ord(char) - ascii_offset - shift) % 26 + ascii_offset)\n",
    "            decrypted_text += decrypted_char\n",
    "        else:\n",
    "            decrypted_text += char\n",
    "    return decrypted_text"
   ]
  },
  {
   "cell_type": "markdown",
   "metadata": {},
   "source": [
    "## Function to Process Message Based on User Input"
   ]
  },
  {
   "cell_type": "code",
   "execution_count": 3,
   "metadata": {},
   "outputs": [],
   "source": [
    "def process_message():\n",
    "    shift_value = shift_entry.get()\n",
    "    if not shift_value.isdigit():\n",
    "        messagebox.showerror(\"Error\", \"Shift value must be an integer.\")\n",
    "        shift_entry.delete(0, tk.END)  # Clear the entry field\n",
    "        return\n",
    "\n",
    "    shift = int(shift_value)\n",
    "    message_type = message_type_var.get()\n",
    "    message = message_entry.get()\n",
    "\n",
    "    if message_type == 1:\n",
    "        encrypted_message = encrypted(message, shift)\n",
    "        messagebox.showinfo(\"Encrypted Message\", f\"Encrypted message: {encrypted_message}\")\n",
    "    else:\n",
    "        decrypted_message = decrypt(message, shift)\n",
    "        messagebox.showinfo(\"Decrypted Message\", f\"Decrypted message: {decrypted_message}\")\n",
    "\n",
    "    # Clear entry fields\n",
    "    message_entry.delete(0, tk.END)\n",
    "    shift_entry.delete(0, tk.END)\n",
    "\n",
    "    # Set focus on message entry field\n",
    "    message_entry.focus_set()"
   ]
  },
  {
   "cell_type": "markdown",
   "metadata": {},
   "source": [
    "## GUI Setup with Tkinter"
   ]
  }
