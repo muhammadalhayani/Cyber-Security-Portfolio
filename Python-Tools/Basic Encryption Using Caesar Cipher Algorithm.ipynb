{
 "cells": [
  {
   "cell_type": "markdown",
   "metadata": {},
   "source": [
    "# Caesar Cipher Application\n",
    "This Jupyter Notebook demonstrates a simple Caesar Cipher application using Tkinter for the GUI. The application allows the user to encrypt and decrypt messages with a specified shift value."
   ]
  },
  {
   "cell_type": "markdown",
   "metadata": {},
   "source": [
    "## Import Libraries\n",
    "We need the `tkinter` library for creating the GUI and `messagebox` for displaying messages."
   ]
  },
  {
   "cell_type": "code",
   "execution_count": 1,
   "metadata": {},
   "outputs": [],
   "source": [
    "import tkinter as tk\n",
    "from tkinter import messagebox"
   ]
  },
  {
   "cell_type": "markdown",
   "metadata": {},
   "source": [
    "## Define Encryption and Decryption Functions\n",
    "### Encryption Function\n",
    "The `encrypted` function takes a string `text` and an integer `shift` as inputs. It returns the encrypted text by shifting each letter by the specified `shift` value."
   ]
  },
  {
   "cell_type": "code",
   "execution_count": 2,
   "metadata": {},
   "outputs": [],
   "source": [
    "def encrypted(text, shift):\n",
    "    encrypted_text = \"\"\n",
    "    for char in text:\n",
    "        if char.isalpha():\n",
    "            ascii_offset = ord('A') if char.isupper() else ord('a')\n",
    "            encrypted_char = chr((ord(char) - ascii_offset + shift) % 26 + ascii_offset)\n",
    "            encrypted_text += encrypted_char\n",
    "        else:\n",
    "            encrypted_text += char\n",
    "    return encrypted_text"
   ]
  },
  {
   "cell_type": "markdown",
   "metadata": {},
   "source": [
    "### Decryption Function\n",
    "The `decrypt` function works similarly to the `encrypted` function but shifts the characters in the opposite direction to decrypt the text."
   ]
  },
  {
   "cell_type": "code",
   "execution_count": 3,
   "metadata": {},
   "outputs": [],
   "source": [
    "def decrypt(text, shift):\n",
    "    decrypted_text = \"\"\n",
    "    for char in text:\n",
    "        if char.isalpha():\n",
    "            ascii_offset = ord('A') if char.isupper() else ord('a')\n",
    "            decrypted_char = chr((ord(char) - ascii_offset - shift) % 26 + ascii_offset)\n",
    "            decrypted_text += decrypted_char\n",
    "        else:\n",
    "            decrypted_text += char\n",
    "    return decrypted_text"
   ]
  },
  {
   "cell_type": "markdown",
   "metadata": {},
   "source": [
    "## Define the Function to Process the Message\n",
    "The `process_message` function handles the user input, validates the shift value, and processes the message based on the selected operation (encryption or decryption)."
   ]
  },
  {
   "cell_type": "code",
   "execution_count": 4,
   "metadata": {},
   "outputs": [],
   "source": [
    "def process_message():\n",
    "    shift_value = shift_entry.get()\n",
    "    if not shift_value.isdigit():\n",
    "        messagebox.showerror(\"Error\", \"Shift value must be an integer.\")\n",
    "        shift_entry.delete(0, tk.END)  # Clear the entry field\n",
    "        return\n",
    "\n",
    "    shift = int(shift_value)\n",
    "    message_type = message_type_var.get()\n",
    "    message = message_entry.get()\n",
    "\n",
    "    if message_type == 1:\n",
    "        encrypted_message = encrypted(message, shift)\n",
    "        messagebox.showinfo(\"Encrypted Message\", f\"Encrypted message: {encrypted_message}\")\n",
    "    else:\n",
    "        decrypted_message = decrypt(message, shift)\n",
    "        messagebox.showinfo(\"Decrypted Message\", f\"Decrypted message: {decrypted_message}\")\n",
    "\n",
    "    # Clear entry fields\n",
    "    message_entry.delete(0, tk.END)\n",
    "    shift_entry.delete(0, tk.END)\n",
    "\n",
    "    # Set focus on message entry field\n",
    "    message_entry.focus_set()"
   ]
  },
  {
   "cell_type": "markdown",
   "metadata": {},
   "source": [
    "## Create the GUI\n",
    "We create the main window for the application, set the title, and make it resizable."
   ]
  },
  {
   "cell_type": "code",
   "execution_count": 5,
   "metadata": {},
   "outputs": [],
   "source": [
    "# Create main window\n",
    "root = tk.Tk()\n",
    "root.title(\"Caesar Cipher\")\n",
    "root.resizable(True, True)"
   ]
  },
  {
   "cell_type": "markdown",
   "metadata": {},
   "source": [
    "### Add Widgets\n",
    "We add widgets for message type selection, message input, shift value input, and a button to process the message."
   ]
  },
  {
   "cell_type": "code",
   "execution_count": 6,
   "metadata": {},
   "outputs": [],
   "source": [
    "# Message type\n",
    "message_type_var = tk.IntVar()\n",
    "tk.Label(root, text=\"Message type:\").grid(row=0, column=0, sticky=\"w\")\n",
    "tk.Radiobutton(root, text=\"Encrypt\", variable=message_type_var, value=1).grid(row=0, column=1, sticky=\"w\")\n",
    "tk.Radiobutton(root, text=\"Decrypt\", variable=message_type_var, value=2).grid(row=0, column=2, sticky=\"w\")\n",
    "\n",
    "# Message\n",
    "tk.Label(root, text=\"Message:\").grid(row=1, column=0, sticky=\"w\")\n",
    "message_entry = tk.Entry(root)\n",
    "message_entry.grid(row=1, column=1, columnspan=2)\n",
    "message_entry.focus_set()  # Set focus on message entry field by default\n",
    "\n",
    "# Shift\n",
    "tk.Label(root, text=\"Shift value:\").grid(row=2, column=0, sticky=\"w\")\n",
    "shift_entry = tk.Entry(root)\n",
    "shift_entry.grid(row=2, column=1, columnspan=2)\n",
    "\n",
    "# Bind \"Tab\" key to move between entry fields\n",
    "message_entry.bind(\"<Tab>\", lambda e: shift_entry.focus_set())\n",
    "shift_entry.bind(\"<Tab>\", lambda e: message_entry.focus_set())\n",
    "\n",
    "# Process button\n",
    "process_button = tk.Button(root, text=\"Process\", command=process_message)\n",
    "process_button.grid(row=3, column=1)\n",
    "\n",
    "root.mainloop()"
   ]
  },
  {
   "cell_type": "markdown",
   "metadata": {},
   "source": [
    "## Interactive Example\n",
    "To make this interactive within a Jupyter Notebook, we'll simulate the encryption and decryption process with input fields for the message and shift value."
   ]
  },
  {
   "cell_type": "code",
   "execution_count": 7,
   "metadata": {},
   "outputs": [],
   "source": [
    "import ipywidgets as widgets\n",
    "from IPython.display import display\n",
    "\n",
    "message_input = widgets.Text(description=\"Message:\")\n",
    "shift_input = widgets.IntText(description=\"Shift:\", value=0)\n",
    "message_type_input = widgets.RadioButtons(\n",
    "    options=[('Encrypt', 1), ('Decrypt', 2)],\n",
    "    description='Type:',\n",
    "    disabled=False\n",
    ")\n",
    "\n",
    "output = widgets.Output()\n",
    "\n",
    "def process_input(change):\n",
    "    with output:\n",
    "        output.clear_output()\n",
    "        message = message_input.value\n",
    "        shift = shift_input.value\n",
    "        message_type = message_type_input.value\n",
    "        \n",
    "        if message_type == 1:\n",
    "            result = encrypted(message, shift)\n",
    "            print(f\"Encrypted message: {result}\")\n",
    "        else:\n",
    "            result = decrypt(message, shift)\n",
    "            print(f\"Decrypted message: {result}\")\n",
    "\n",
    "button = widgets.Button(description=\"Process\")\n",
    "button.on_click(process_input)\n",
    "\n",
    "display(message_input, shift_input, message_type_input, button, output)"
   ]
  }
 ],
 "metadata": {
  "kernelspec": {
   "display_name": "Python 3",
   "language": "python",
   "name": "python3"
  },
  "language_info": {
   "codemirror_mode": {
    "name": "ipython",
    "version": 3
   },
   "file_extension": ".py",
   "mimetype": "text/x-python",
   "name": "python",
   "nbconvert_exporter": "python",
   "pygments_lexer": "ipython3",
   "version": "3.9.7"
  }
 },
 "nbformat": 4,
 "nbformat_minor": 5
}
