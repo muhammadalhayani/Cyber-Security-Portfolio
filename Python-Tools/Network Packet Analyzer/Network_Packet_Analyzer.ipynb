{
 "cells": [
  {
   "cell_type": "markdown",
   "metadata": {},
   "source": [
    "# Packet Sniffer\n",
    "---\n",
    "This Jupyter Notebook demonstrates a packet sniffer tool using Scapy to capture and analyze network packets."
   ]
  },
  {
   "cell_type": "markdown",
   "metadata": {},
   "source": [
    "## Import Libraries\n",
    "Importing the necessary libraries for packet sniffing."
   ]
  },
  {
   "cell_type": "code",
   "execution_count": 1,
   "metadata": {},
   "outputs": [],
   "source": [
    "import time\n",
    "from scapy.all import sniff, IP, TCP, UDP, ICMP, Raw, wrpcap"
   ]
  },
  {
   "cell_type": "markdown",
   "metadata": {},
   "source": [
    "## Initialize Variables\n",
    "Initialize variables and set up the packet capture index."
   ]
  },
  {
   "cell_type": "code",
   "execution_count": 2,
   "metadata": {},
   "outputs": [],
   "source": [
    "# Initialize a packet index counter\n",
    "packet_index = 0"
   ]
  },
  {
   "cell_type": "markdown",
   "metadata": {},
   "source": [
    "## Define Packet Callback Function\n",
    "The `packet_callback` function processes each captured packet, prints packet details, and saves packets to a pcap file."
   ]
  },
  {
   "cell_type": "code",
   "execution_count": 3,
   "metadata": {},
   "outputs": [],
   "source": [
    "def packet_callback(packet):\n",
    "    global packet_index\n",
    "    packet_index += 1\n",
    "\n",
    "    # Print packet index\n",
    "    print(f\"=== Packet #{packet_index} ===\")\n",
    "    \n",
    "    # Check if the packet has an IP layer\n",
    "    if IP in packet:\n",
    "        ip_layer = packet[IP]\n",
    "        # Print source and destination IP addresses\n",
    "        print(f\"Source IP: {ip_layer.src}\")\n",
    "        print(f\"Destination IP: {ip_layer.dst}\")\n",
    "        \n",
    "        # Check if the packet has a TCP layer and print details\n",
    "        if TCP in packet:\n",
    "            tcp_layer = packet[TCP]\n",
    "            print(f\"Protocol: TCP\")\n",
    "            print(f\"Source Port: {tcp_layer.sport}\")\n",
    "            print(f\"Destination Port: {tcp_layer.dport}\")\n",
    "        \n",
    "        # Check if the packet has a UDP layer and print details\n",
    "        elif UDP in packet:\n",
    "            udp_layer = packet[UDP]\n",
    "            print(f\"Protocol: UDP\")\n",
    "            print(f\"Source Port: {udp_layer.sport}\")\n",
    "            print(f\"Destination Port: {udp_layer.dport}\")\n",
    "        \n",
    "        # Check if the packet has an ICMP layer and print details\n",
    "        elif ICMP in packet:\n",
    "            print(f\"Protocol: ICMP\")\n",
    "    \n",
    "    # Check if the packet has a Raw layer and print payload\n",
    "    if Raw in packet:\n",
    "        raw_layer = packet[Raw]\n",
    "        print(f\"Payload: {raw_layer.load}\")\n",
    "    \n",
    "    # Print an empty line to separate this packet's details from the next packet\n",
    "    print()\n",
    "\n",
    "    # Save packet to pcap file\n",
    "    wrpcap(output_file_path, packet, append=True)\n",
    "\n",
    "    # Add a delay of 0.5 seconds before processing the next packet (optional)\n",
    "    time.sleep(0.5)\n"
   ]
  },
  {
   "cell_type": "markdown",
   "metadata": {},
   "source": [
    "## Define Disclaimer Function\n",
    "The `disclaimer` function prints a disclaimer about the tool's usage."
   ]
  },
  {
   "cell_type": "code",
   "execution_count": 4,
   "metadata": {},
   "outputs": [],
   "source": [
    "def disclaimer():\n",
    "    print(\"=== Disclaimer ===\")\n",
    "    print(\"This tool is for educational purposes only. Unauthorized use is prohibited.\")\n",
    "    print()"
   ]
  },
  {
   "cell_type": "markdown",
   "metadata": {},
   "source": [
    "## Print Disclaimer\n",
    "Print the disclaimer message."
   ]
  },
  {
   "cell_type": "code",
   "execution_count": 5,
   "metadata": {},
   "outputs": [],
   "source": [
    "disclaimer()"
   ]
  },
  {
   "cell_type": "markdown",
   "metadata": {},
   "source": [
    "## Specify Output File Path\n",
    "Prompt the user to specify where to save the captured packets."
   ]
  },
  {
   "cell_type": "code",
   "execution_count": 6,
   "metadata": {},
   "outputs": [],
   "source": [
    "# Prompt user to specify where to save the file\n",
    "output_file_path = input(\"Enter the path where you want to save the captured packets (e.g., /path/to/save/captured_packets.pcap): \")\n"
   ]
  },
  {
   "cell_type": "markdown",
   "metadata": {},
   "source": [
    "## Capture Packets\n",
    "Specify the network interface and start capturing packets. Call `packet_callback` for each captured packet."
   ]
  },
  {
   "cell_type": "code",
   "execution_count": 7,
   "metadata": {},
   "outputs": [],
   "source": [
    "# Specify the network interface\n",
    "interface = \"Wi-Fi\"\n",
    "\n",
    "try:\n",
    "    # Start capturing packets and call packet_callback for each packet captured\n",
    "    sniff(prn=packet_callback, iface=interface)\n",
    "except KeyboardInterrupt:\n",
    "    print(\"\\n=== Capture stopped by user ===\")"
   ]
  },
  {
   "cell_type": "markdown",
   "metadata": {},
   "source": [
    "## Usage Instructions\n",
    "### Downloading and Running the Code\n",
    "1. **Install Git**: If you don't have Git installed, download and install it from [git-scm.com](https://git-scm.com/).\n",
    "2. **Clone the Repository**:\n",
    "   - Open a terminal or command prompt.\n",
    "   - Navigate to the directory where you want to clone the repository.\n",
    "   - Run the following command to clone the repository:\n",
    "     ```\n",
    "     git clone https://github.com/muhammadalhayani/Cyber-Security-Portfolio.git\n",
    "     ```\n",
    "3. **Navigate to the Cloned Repository**:\n",
    "   - Change directory to the cloned repository:\n",
    "     ```\n",
    "     cd Cyber-Security-Portfolio/Python-Tools\n",
    "     ```\n",
    "4. **Run the Script**:\n",
    "   - Run the Python script:\n",
    "     ```\n",
    "     python packet_sniffer.py\n",
    "     ```"
   ]
  }
 ],
 "metadata": {
  "kernelspec": {
   "display_name": "Python 3",
   "language": "python",
   "name": "python3"
  },
  "language_info": {
   "codemirror_mode": {
    "name": "ipython",
    "version": 3
   },
   "file_extension": ".py",
   "mimetype": "text/x-python",
   "name": "python",
   "nbconvert_exporter": "python",
   "pygments_lexer": "ipython3",
   "version": "3.8.5"
  }
 },
 "nbformat": 4,
 "nbformat_minor": 5
}
